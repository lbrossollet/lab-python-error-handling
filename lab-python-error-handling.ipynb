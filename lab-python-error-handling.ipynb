{
 "cells": [
  {
   "cell_type": "markdown",
   "id": "25d7736c-ba17-4aff-b6bb-66eba20fbf4e",
   "metadata": {},
   "source": [
    "# Lab | Error Handling"
   ]
  },
  {
   "cell_type": "markdown",
   "id": "bc99b386-7508-47a0-bcdb-d969deaf6c8b",
   "metadata": {},
   "source": [
    "## Exercise: Error Handling for Managing Customer Orders\n",
    "\n",
    "The implementation of your code for managing customer orders assumes that the user will always enter a valid input. \n",
    "\n",
    "For example, we could modify the `initialize_inventory` function to include error handling.\n",
    "   - If the user enters an invalid quantity (e.g., a negative value or a non-numeric value), display an error message and ask them to re-enter the quantity for that product.\n",
    "   - Use a try-except block to handle the error and continue prompting the user until a valid quantity is entered.\n",
    "\n",
    "```python\n",
    "# Step 1: Define the function for initializing the inventory with error handling\n",
    "def initialize_inventory(products):\n",
    "    inventory = {}\n",
    "    for product in products:\n",
    "        valid_quantity = False\n",
    "        while not valid_quantity:\n",
    "            try:\n",
    "                quantity = int(input(f\"Enter the quantity of {product}s available: \"))\n",
    "                if quantity < 0:\n",
    "                    raise ValueError(\"Invalid quantity! Please enter a non-negative value.\")\n",
    "                valid_quantity = True\n",
    "            except ValueError as error:\n",
    "                print(f\"Error: {error}\")\n",
    "        inventory[product] = quantity\n",
    "    return inventory\n",
    "\n",
    "# Or, in another way:\n",
    "\n",
    "def initialize_inventory(products):\n",
    "    inventory = {}\n",
    "    for product in products:\n",
    "        valid_input = False\n",
    "        while not valid_input:\n",
    "            try:\n",
    "                quantity = int(input(f\"Enter the quantity of {product}s available: \"))\n",
    "                if quantity >= 0:\n",
    "                    inventory[product] = quantity\n",
    "                    valid_input = True\n",
    "                else:\n",
    "                    print(\"Quantity cannot be negative. Please enter a valid quantity.\")\n",
    "            except ValueError:\n",
    "                print(\"Invalid input. Please enter a valid quantity.\")\n",
    "    return inventory\n",
    "```\n",
    "\n",
    "Let's enhance your code by implementing error handling to handle invalid inputs.\n",
    "\n",
    "Follow the steps below to complete the exercise:\n",
    "\n",
    "2. Modify the `calculate_total_price` function to include error handling.\n",
    "   - If the user enters an invalid price (e.g., a negative value or a non-numeric value), display an error message and ask them to re-enter the price for that product.\n",
    "   - Use a try-except block to handle the error and continue prompting the user until a valid price is entered.\n",
    "\n",
    "3. Modify the `get_customer_orders` function to include error handling.\n",
    "   - If the user enters an invalid number of orders (e.g., a negative value or a non-numeric value), display an error message and ask them to re-enter the number of orders.\n",
    "   - If the user enters an invalid product name (e.g., a product name that is not in the inventory), or that doesn't have stock available, display an error message and ask them to re-enter the product name. *Hint: you will need to pass inventory as a parameter*\n",
    "   - Use a try-except block to handle the error and continue prompting the user until a valid product name is entered.\n",
    "\n",
    "4. Test your code by running the program and deliberately entering invalid quantities and product names. Make sure the error handling mechanism works as expected.\n"
   ]
  },
  {
   "cell_type": "code",
   "execution_count": 19,
   "id": "36d20306",
   "metadata": {},
   "outputs": [
    {
     "name": "stdout",
     "output_type": "stream",
     "text": [
      "the quantity of t-shirts available is: 1\n",
      "the quantity of mugs available is: 1\n",
      "the quantity of hats available is: 1\n",
      "the quantity of books available is: 1\n",
      "the quantity of keychains available is: 1\n"
     ]
    }
   ],
   "source": [
    "products=[\"t-shirt\",\"mug\",\"hat\",\"book\",\"keychain\"] \n",
    "\n",
    "def initialize_inventory(products):\n",
    "    inventory = {}\n",
    "    for product in products:\n",
    "        valid_quantity = False\n",
    "        while not valid_quantity:\n",
    "            try:\n",
    "                quantity = int(input(f\"Enter the quantity of {product}s available: \"))\n",
    "                if quantity < 0:\n",
    "                    raise ValueError(\"Invalid quantity! Please enter a non-negative value.\")\n",
    "                valid_quantity = True\n",
    "            except ValueError as error:\n",
    "                print(f\"Error: {error}\")\n",
    "        inventory[product] = quantity\n",
    "    return inventory\n",
    "\n",
    "inventory=initialize_inventory(products)\n",
    "\n",
    "for item, quantity in inventory.items():\n",
    "    print(f\"the quantity of {item}s available is: {quantity}\")\n",
    "\n"
   ]
  },
  {
   "cell_type": "code",
   "execution_count": 65,
   "id": "406300c4",
   "metadata": {},
   "outputs": [
    {
     "name": "stdout",
     "output_type": "stream",
     "text": [
      "the <<hit>> is not available or you enter a wrong product\n",
      "the <<hit>> is not available or you enter a wrong product\n",
      "the <<hit>> is not available or you enter a wrong product\n",
      "the <<hit>> is not available or you enter a wrong product\n",
      "the <<>> is not available or you enter a wrong product\n",
      "the <<>> is not available or you enter a wrong product\n",
      "the <<>> is not available or you enter a wrong product\n",
      "the <<>> is not available or you enter a wrong product\n",
      "the <<>> is not available or you enter a wrong product\n",
      "{'mug'}\n",
      "The customer ordered : mug\n"
     ]
    }
   ],
   "source": [
    "def get_customer_orders():\n",
    "    customer_orders=set()\n",
    "    ordering=True\n",
    "    while ordering:\n",
    "        try:\n",
    "            product_to_order=input(f\"enter a product from the list : {products}\")\n",
    "            if product_to_order not in inventory :\n",
    "                print(f\"the <<{product_to_order}>> is not available or you enter a wrong product\")\n",
    "            else: \n",
    "                customer_orders.add(product_to_order)\n",
    "                continue_ordering=(input(\"Yes / No\")).upper()\n",
    "                if continue_ordering!= \"YES\":\n",
    "                    ordering=False\n",
    "        except Exception as e:\n",
    "            print(\"Error try again\")\n",
    "    \n",
    "    return customer_orders\n",
    "\n",
    "customer_orders=get_customer_orders()\n",
    "\n",
    "print(customer_orders)\n",
    "for product in customer_orders:\n",
    "    print( f\"The customer ordered : {product}\" )"
   ]
  },
  {
   "cell_type": "code",
   "execution_count": 66,
   "id": "2d46b24b",
   "metadata": {},
   "outputs": [
    {
     "name": "stdout",
     "output_type": "stream",
     "text": [
      "the price of the mug is:  10\n"
     ]
    }
   ],
   "source": [
    "def products_price(customer_orders):\n",
    "    total=0\n",
    "    price_of_product=0\n",
    "    for products in customer_orders:\n",
    "        valid_price=False\n",
    "        while not valid_price:\n",
    "            try:\n",
    "                price_of_product=int(input(f\"enter the price of the product : {products}\"))\n",
    "                print(f\"the price of the {products} is:  {price_of_product}\")\n",
    "                if price_of_product<=0:\n",
    "                    raise ValueError (\"Price can't be negativ, null or be a letter\")\n",
    "                valid_price = True\n",
    "            except ValueError as error:\n",
    "                print(f\"Error:{error}\")\n",
    "        total+=price_of_product\n",
    "    #print (total)\n",
    "    return total    \n",
    "total = products_price(customer_orders)"
   ]
  },
  {
   "cell_type": "code",
   "execution_count": 67,
   "id": "7c113cb5",
   "metadata": {},
   "outputs": [
    {
     "name": "stdout",
     "output_type": "stream",
     "text": [
      "the total price of the product is 10\n",
      "The customer ordered 1 products\n",
      "percentage of unique prodcut orderded :20.0 %\n",
      "Updated Inventory :\n",
      "the quantity of t-shirts available is: 1\n",
      "the quantity of hats available is: 1\n",
      "the quantity of books available is: 1\n",
      "the quantity of keychains available is: 1\n"
     ]
    }
   ],
   "source": [
    "\n",
    "def update_inventory(customer_orders, inventory):\n",
    "     inventory={product:inventory[product]-1 if product in customer_orders else inventory[product] for product in inventory}\n",
    "     inventory={product: quantity for product, quantity in inventory.items() if quantity > 0}\n",
    "     return inventory\n",
    "\n",
    "\n",
    "\n",
    "inventory=update_inventory(customer_orders,inventory)\n",
    "\n",
    "def calculate_order_statistics(customer_orders,products):\n",
    "    order_statistics=100*len(customer_orders)/len(products)\n",
    "    return order_statistics\n",
    "\n",
    "def print_order_statistics(order_statistics):\n",
    "    print(f\"The customer ordered {len(customer_orders)} products\")\n",
    "    print(f\"percentage of unique prodcut orderded :{order_statistics} %\" )\n",
    "\n",
    "def print_updated_inventory(inventory):\n",
    "    print(\"Updated Inventory :\")\n",
    "    for item, quantity in inventory.items():\n",
    "        print(f\"the quantity of {item}s available is: {quantity}\")\n",
    "\n",
    "print(f\"the total price of the product is {total}\")\n",
    "\n",
    "order_statistics=calculate_order_statistics(customer_orders,products)\n",
    "print_order_statistics(order_statistics)\n",
    "print_updated_inventory(inventory)"
   ]
  }
 ],
 "metadata": {
  "kernelspec": {
   "display_name": "Python 3 (ipykernel)",
   "language": "python",
   "name": "python3"
  },
  "language_info": {
   "codemirror_mode": {
    "name": "ipython",
    "version": 3
   },
   "file_extension": ".py",
   "mimetype": "text/x-python",
   "name": "python",
   "nbconvert_exporter": "python",
   "pygments_lexer": "ipython3",
   "version": "3.9.6"
  }
 },
 "nbformat": 4,
 "nbformat_minor": 5
}
